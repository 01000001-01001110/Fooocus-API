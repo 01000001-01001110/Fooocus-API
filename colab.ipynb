{
  "nbformat": 4,
  "nbformat_minor": 0,
  "metadata": {
    "colab": {
      "private_outputs": true,
      "provenance": [],
      "gpuType": "T4",
      "machine_shape": "hm"
    },
    "kernelspec": {
      "name": "python3",
      "display_name": "Python 3"
    },
    "language_info": {
      "name": "python"
    },
    "accelerator": "GPU"
  },
  "cells": [
    {
      "cell_type": "code",
      "execution_count": null,
      "metadata": {
        "id": "Y3_LyryPjYNB"
      },
      "outputs": [],
      "source": [
        "%cd /content\n",
        "!git clone https://github.com/konieshadow/Fooocus-API"
      ]
    },
    {
      "cell_type": "code",
      "source": [
        "# Use virtualenv to avoid dependencies conflict\n",
        "!pip install virtualenv\n",
        "!virtualenv /content/venv"
      ],
      "metadata": {
        "id": "qMTMO8cqth0D"
      },
      "execution_count": null,
      "outputs": []
    },
    {
      "cell_type": "code",
      "source": [
        "%cd /content/Fooocus-API\n",
        "\n",
        "!source /content/venv/bin/activate; pip install -r requirements.txt\n",
        "!source /content/venv/bin/activate; pip install torch==2.0.1 torchvision==0.15.2 --extra-index-url https://download.pytorch.org/whl/cu118 xformers"
      ],
      "metadata": {
        "id": "ZmeU8_76tuFa"
      },
      "execution_count": null,
      "outputs": []
    },
    {
      "cell_type": "code",
      "source": [
        "!npm install -g tunnelmole"
      ],
      "metadata": {
        "id": "eNsYjwFCjgju"
      },
      "execution_count": null,
      "outputs": []
    },
    {
      "cell_type": "code",
      "source": [
        "!source /content/venv/bin/activate; python -c \"from main import pre_setup; pre_setup(load_all_models=False)\""
      ],
      "metadata": {
        "id": "8GcxyUf5mnn-"
      },
      "execution_count": null,
      "outputs": []
    },
    {
      "cell_type": "code",
      "source": [
        "!source /content/venv/bin/activate; python main.py & tmole 8888"
      ],
      "metadata": {
        "id": "KI_nBjx0jc-2"
      },
      "execution_count": null,
      "outputs": []
    }
  ]
}