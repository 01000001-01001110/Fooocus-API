{
  "nbformat": 4,
  "nbformat_minor": 0,
  "metadata": {
    "colab": {
      "private_outputs": true,
      "provenance": [],
      "gpuType": "T4"
    },
    "kernelspec": {
      "name": "python3",
      "display_name": "Python 3"
    },
    "language_info": {
      "name": "python"
    },
    "accelerator": "GPU"
  },
  "cells": [
    {
      "cell_type": "code",
      "source": [
        "# Download tunnel proxy tool\n",
        "%cd /content\n",
        "!wget https://github.com/ekzhang/bore/releases/download/v0.5.0/bore-v0.5.0-x86_64-unknown-linux-musl.tar.gz\n",
        "!tar -zxvf bore-v0.5.0-x86_64-unknown-linux-musl.tar.gz\n",
        "!chmod +x bore"
      ],
      "metadata": {
        "id": "sYEqjim2kocR"
      },
      "execution_count": null,
      "outputs": []
    },
    {
      "cell_type": "code",
      "execution_count": null,
      "metadata": {
        "id": "Y3_LyryPjYNB"
      },
      "outputs": [],
      "source": [
        "%cd /content\n",
        "!git clone -b dev https://github.com/konieshadow/Fooocus-API\n",
        "\n",
        "%cd /content/Fooocus-API\n",
        "!cp colab_fix.txt user_path_config.txt\n",
        "from main import pre_setup\n",
        "pre_setup(load_all_models=False)"
      ]
    },
    {
      "cell_type": "code",
      "source": [
        "# Preload pipeline before start http server\n",
        "# Open url in new tab from output \"listening at bore.pub:xxxx\" after you see \"Uvicorn running on http://127.0.0.1:8888\"\n",
        "!python main.py --sync-repo skip --preload-pipeline & /content/bore local 8888 --to bore.pub"
      ],
      "metadata": {
        "id": "KI_nBjx0jc-2"
      },
      "execution_count": null,
      "outputs": []
    }
  ]
}